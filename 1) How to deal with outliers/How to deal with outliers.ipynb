{
 "cells": [
  {
   "cell_type": "markdown",
   "metadata": {},
   "source": [
    "<h2>Outliers</h2>\n",
    "Why you should worry about outlers?<br>\n",
    "They affect the power of your models of generalizing over datasets. But remember not all outliers are bad. Some outliers may be indication of a case that you are missing or a case that your model is not prepared for.<br>\n",
    "<p>Two types of outliers\n",
    "<ul><li>Mild Outliers ->  Q1 - 1.5*IQR or Q3 + 1.5*IQR</li>\n",
    "<li>Extreme outliers ->  Q1 - 3*IQR or Q3 + 3*IQR</li></ul></p>"
   ]
  },
  {
   "cell_type": "markdown",
   "metadata": {},
   "source": [
    "<h2>Methods to deal with outliers</h2>\n",
    "\n",
    "<h3>1) Univariate Method</h3>\n",
    "The simplest of all methods. You just have to look for extreme values.<br>\n",
    "For example if you have a dataset where all values are less than 100 and you observe a value of say 1000 than that is cleary a outlier."
   ]
  },
  {
   "cell_type": "code",
   "execution_count": 2,
   "metadata": {},
   "outputs": [],
   "source": [
    "import numpy as np\n",
    "import matplotlib.pyplot as plt\n",
    "%matplotlib inline"
   ]
  },
  {
   "cell_type": "code",
   "execution_count": 2,
   "metadata": {},
   "outputs": [
    {
     "name": "stdout",
     "output_type": "stream",
     "text": [
      "Max =  27.01273659614438\n",
      "Min =  -19.63742189358576\n",
      "Mean =  1.4484865024436133\n",
      "Std =  9.719028552541065\n"
     ]
    }
   ],
   "source": [
    "# Generate data\n",
    "data = 10*np.random.randn(1,50)\n",
    "print(\"Max = \", data.max())\n",
    "print(\"Min = \",data.min())\n",
    "print(\"Mean = \",data.mean())\n",
    "print(\"Std = \",data.std())"
   ]
  },
  {
   "cell_type": "code",
   "execution_count": 3,
   "metadata": {},
   "outputs": [
    {
     "name": "stdout",
     "output_type": "stream",
     "text": [
      "Max =  95.0\n",
      "Min =  -100.0\n",
      "Mean =  1.989339354114457\n",
      "Std =  24.205592413236193\n"
     ]
    }
   ],
   "source": [
    "# Add some external noise\n",
    "data = np.append(data, [80,95,-40,-100])\n",
    "print(\"Max = \", data.max())\n",
    "print(\"Min = \",data.min())\n",
    "print(\"Mean = \",data.mean())\n",
    "print(\"Std = \",data.std())"
   ]
  },
  {
   "cell_type": "markdown",
   "metadata": {},
   "source": [
    "Now you can use box plots to deal with the problem.<br>\n",
    "<h3>Boxplots</h3>\n",
    "<img src = \"box_plot.png\" align = \"center\"></img>"
   ]
  },
  {
   "cell_type": "code",
   "execution_count": 4,
   "metadata": {},
   "outputs": [
    {
     "data": {
      "image/png": "[encoded data removed]",
      "text/plain": [
       "<matplotlib.figure.Figure at 0x7f46142b6470>"
      ]
     },
     "metadata": {},
     "output_type": "display_data"
    }
   ],
   "source": [
    "# In this case you can clearly identify the outliers\n",
    "plt.boxplot(data)\n",
    "plt.show()"
   ]
  },
  {
   "cell_type": "code",
   "execution_count": 5,
   "metadata": {},
   "outputs": [
    {
     "data": {
      "image/png": "[encoded data removed]",
      "text/plain": [
       "<matplotlib.figure.Figure at 0x7f46142b6400>"
      ]
     },
     "metadata": {},
     "output_type": "display_data"
    }
   ],
   "source": [
    "# But in some cases when the outliers are part of the interquartile range. This method would fail.\n",
    "data1 = np.arange(1,31).reshape((30,1))\n",
    "data1[16,0] = 20\n",
    "\n",
    "plt.plot(data1, 'bo')\n",
    "plt.show()"
   ]
  },
  {
   "cell_type": "code",
   "execution_count": 6,
   "metadata": {},
   "outputs": [
    {
     "data": {
      "image/png": "[encoded data removed]",
      "text/plain": [
       "<matplotlib.figure.Figure at 0x7f45ee9a7898>"
      ]
     },
     "metadata": {},
     "output_type": "display_data"
    }
   ],
   "source": [
    "# In this case if we draw a boxplot we would not be able to identify the outlier.\n",
    "plt.boxplot(data1)\n",
    "plt.show()"
   ]
  },
  {
   "cell_type": "markdown",
   "metadata": {},
   "source": [
    "<h2>2) Multivariate Method</h2>\n",
    "Now to solve the above problem you must notice a key fact that when the outlier occured it was not a extreme value. So what made this point an outlier was the fact that suddenly the data distribution did not follow the set pattern.<br>\n",
    "In this method we first create a model using the entire data and then compare the actual and the preduicted values of our model and if their difference is above a threshold we treat that point as an outlier."
   ]
  },
  {
   "cell_type": "code",
   "execution_count": 7,
   "metadata": {},
   "outputs": [],
   "source": [
    "# For illlustration purpose I create a simple linear regression model\n",
    "# Although you should prefer a neural network for the purpose\n",
    "b = np.zeros((1, 1))\n",
    "W = np.zeros((1, 1))\n",
    "learning_rate = 0.0001\n",
    "iterations = 1000\n",
    "\n",
    "X = np.arange(1,31).reshape((30,1))\n",
    "Y = np.copy(data1)\n",
    "\n",
    "for _ in range(iterations):\n",
    "    y_hat = b + np.dot(X, W)\n",
    "    err = Y - y_hat\n",
    "    error = np.sum(np.square(err), axis = 0)\n",
    "    \n",
    "    db = -2*np.sum(err, axis = 0)\n",
    "    dW = -2*np.dot(X.T, err)\n",
    "\n",
    "    b = b - learning_rate*db\n",
    "    W = W - learning_rate*dW"
   ]
  },
  {
   "cell_type": "code",
   "execution_count": 8,
   "metadata": {},
   "outputs": [
    {
     "data": {
      "image/png": "[encoded data removed]",
      "text/plain": [
       "<matplotlib.figure.Figure at 0x7f45ee8eea90>"
      ]
     },
     "metadata": {},
     "output_type": "display_data"
    }
   ],
   "source": [
    "# This is the model learned by our model\n",
    "plt.plot(X, y_hat, 'bo')\n",
    "plt.show()"
   ]
  },
  {
   "cell_type": "code",
   "execution_count": 9,
   "metadata": {},
   "outputs": [
    {
     "data": {
      "text/plain": [
       "[]"
      ]
     },
     "execution_count": 9,
     "metadata": {},
     "output_type": "execute_result"
    },
    {
     "data": {
      "image/png": "[encoded data removed]",
      "text/plain": [
       "<matplotlib.figure.Figure at 0x7f45ee961470>"
      ]
     },
     "metadata": {},
     "output_type": "display_data"
    }
   ],
   "source": [
    "# Now set some threshold error value\n",
    "X = np.arange(1,31).reshape(30,1)\n",
    "threshold = 2\n",
    "err = np.abs(data1 - y_hat)\n",
    "for a in range(data1.shape[0]):\n",
    "    if err[a,0] > threshold:\n",
    "        new_data = np.delete(data1, [a,0])\n",
    "        X = np.delete(X, [a,0])\n",
    "\n",
    "plt.plot(X, new_data, 'bo')\n",
    "plt.plot()"
   ]
  },
  {
   "cell_type": "code",
   "execution_count": 10,
   "metadata": {},
   "outputs": [
    {
     "data": {
      "text/plain": [
       "(30, 1)"
      ]
     },
     "execution_count": 10,
     "metadata": {},
     "output_type": "execute_result"
    }
   ],
   "source": [
    "data1.shape"
   ]
  },
  {
   "cell_type": "markdown",
   "metadata": {},
   "source": [
    "<h2>3) Minkowski error</h2>\n",
    "This method does not remove outliers but it reduces the impact that outliers have on the data.<br>\n",
    "One way to implement it is by remembering that we train our models using Mean Sqaured Loss(MSE). So when we take the square of the differece between y and y_predicted we are essentially squaring the errors and increasing the errors even more.<br>\n",
    "So you can reduce the power of MSE, instead of using 2 use, say 1.5."
   ]
  },
  {
   "cell_type": "markdown",
   "metadata": {},
   "source": [
    "<h2>4) Histograms</h2>"
   ]
  },
  {
   "cell_type": "code",
   "execution_count": 11,
   "metadata": {},
   "outputs": [],
   "source": [
    "data = 10*np.random.randn(1,50)\n",
    "data = np.append(data, [80,95,-40,-100])"
   ]
  },
  {
   "cell_type": "code",
   "execution_count": 12,
   "metadata": {},
   "outputs": [
    {
     "data": {
      "image/png": "[encoded data removed]",
      "text/plain": [
       "<matplotlib.figure.Figure at 0x7f45ee903b70>"
      ]
     },
     "metadata": {},
     "output_type": "display_data"
    }
   ],
   "source": [
    "plt.hist(data, TT)\n",
    "plt.show()"
   ]
  },
  {
   "cell_type": "code",
   "execution_count": 3,
   "metadata": {},
   "outputs": [
    {
     "data": {
      "image/png": "[encoded data removed]",
      "text/plain": [
       "<matplotlib.figure.Figure at 0x7fa327f9b898>"
      ]
     },
     "metadata": {},
     "output_type": "display_data"
    }
   ],
   "source": [
    "x = np.array([1,1,1,3,3])\n",
    "plt.hist(x, bins = 40)\n",
    "plt.show()"
   ]
  },
  {
   "cell_type": "code",
   "execution_count": null,
   "metadata": {},
   "outputs": [],
   "source": []
  }
 ],
 "metadata": {
  "kernelspec": {
   "display_name": "Python 3",
   "language": "python",
   "name": "python3"
  },
  "language_info": {
   "codemirror_mode": {
    "name": "ipython",
    "version": 3
   },
   "file_extension": ".py",
   "mimetype": "text/x-python",
   "name": "python",
   "nbconvert_exporter": "python",
   "pygments_lexer": "ipython3",
   "version": "3.6.4"
  }
 },
 "nbformat": 4,
 "nbformat_minor": 2
}
